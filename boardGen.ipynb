{
 "cells": [
  {
   "cell_type": "code",
   "execution_count": null,
   "metadata": {},
   "outputs": [],
   "source": [
    "import random\n",
    "from random import shuffle\n",
    "boardSpaces = [1,2,3,4,5,6,7,8,9,10,11,12,13,14,15,16,17,18,19]\n",
    "adjacent = {\n",
    "    1 :  [2,4,5],\n",
    "    2 :  [1,3,5,6],\n",
    "    3 :  [2,6,7],\n",
    "    4 :  [1,5,8,9],\n",
    "    5 :  [1,2,4,6,9,10],\n",
    "    6 :  [2,3,5,7,10,11],\n",
    "    7 :  [3,6,11,12],\n",
    "    8 :  [4,9,13],\n",
    "    9 :  [4,5,8,10,13,14],\n",
    "    10 : [5,6,9,11,14,15],\n",
    "    11 : [6,7,10,12,15,16],\n",
    "    12 : [7,11,16],\n",
    "    13 : [8,9,14,17],\n",
    "    14 : [9,10,13,15,17,18],\n",
    "    15 : [10,11,14,16,18,19],\n",
    "    16 : [11,12,15,19],\n",
    "    17 : [13,14,18],\n",
    "    18 : [14,15,17,19],\n",
    "    19 : [15,16,18]\n",
    "}"
   ]
  },
  {
   "cell_type": "code",
   "execution_count": null,
   "metadata": {},
   "outputs": [],
   "source": [
    "# for each hex in the square, put a number\n",
    "assignedHexBoard = {}\n",
    "\n",
    "hexes = [\"sheep\",\"sheep\",\"sheep\",\"sheep\",\n",
    "            \"stone\",\"stone\",\"stone\",\n",
    "            \"brick\",\"brick\",\"brick\",\n",
    "            \"wheat\",\"wheat\",\"wheat\",\"wheat\",\n",
    "            \"wood\",\"wood\",\"wood\",\"wood\",\n",
    "            \"desert\"\n",
    "        ]\n",
    "\n",
    "shuffle(hexes)\n",
    "for space in boardSpaces:\n",
    "    strSpace = str(space)\n",
    "    assignedHexBoard[strSpace] = hexes.pop(0)"
   ]
  },
  {
   "cell_type": "code",
   "execution_count": null,
   "metadata": {},
   "outputs": [],
   "source": [
    "assignedBoard = {}\n",
    "\n",
    "def assignBoard():\n",
    "    numbers = [2,3,3,4,4,5,5,6,6,8,8,9,9,10,10,11,11,12]\n",
    "\n",
    "    for space in boardSpaces:\n",
    "        strSpace = str(space)\n",
    "        if assignedHexBoard[strSpace] != 'desert':\n",
    "            assignedBoard[strSpace] = 0\n",
    "        else:\n",
    "            assignedBoard[strSpace] = 'D'\n",
    "\n",
    "    shuffle(numbers)\n",
    "    for space in boardSpaces:\n",
    "        strSpace = str(space)\n",
    "        if assignedBoard[strSpace] == 0:\n",
    "            numToAssign = numbers.pop(0)\n",
    "            assignedBoard[strSpace] = numToAssign\n",
    "    return assignedBoard"
   ]
  },
  {
   "cell_type": "code",
   "execution_count": null,
   "metadata": {},
   "outputs": [],
   "source": [
    "def checkBoard(assignedBoard):\n",
    "    for space in boardSpaces:\n",
    "        # get the assigned number and check against the other assigned numbers\n",
    "        curNum = assignedBoard[str(space)]\n",
    "        for adjNum in adjacent[space]:\n",
    "            if curNum == 6 and assignedBoard[str(adjNum)] == 6:\n",
    "                return False\n",
    "            if curNum == 6 and assignedBoard[str(adjNum)] == 8:\n",
    "                return False\n",
    "            if curNum == 8 and assignedBoard[str(adjNum)] == 6:\n",
    "                return False\n",
    "            if curNum == 8 and assignedBoard[str(adjNum)] == 8:\n",
    "                return False\n",
    "            # do not allow adjacent numbers\n",
    "            # if curNum == assignedBoard[str(adjNum)]:\n",
    "                # return False\n",
    "    return True     "
   ]
  },
  {
   "cell_type": "code",
   "execution_count": null,
   "metadata": {},
   "outputs": [],
   "source": [
    "newBoard = assignBoard()\n",
    "while not checkBoard(newBoard):\n",
    "    newBoard = assignBoard()\n",
    "    \n",
    "for space in newBoard.keys():\n",
    "    if space == str(1):\n",
    "        print(f\"    \", end='')\n",
    "    elif space == str(4):\n",
    "        print()\n",
    "        print(f\"  \", end='')\n",
    "    elif space == str(8):\n",
    "        print()\n",
    "    elif space == str(13):\n",
    "        print()\n",
    "        print(f\"  \",end='')\n",
    "    elif space == str(17):\n",
    "        print()\n",
    "        print(f\"    \",end='')\n",
    "    \n",
    "    print(f'{newBoard[space]:>2}', end='')\n",
    "    print('  ',end='')\n",
    "\n",
    "print()\n",
    "print()\n",
    "\n",
    "for space in newBoard.keys():\n",
    "    if space == str(1):\n",
    "        print(f\"            \", end='')\n",
    "    elif space == str(4):\n",
    "        print()\n",
    "        print(f\"      \", end='')\n",
    "    elif space == str(8):\n",
    "        print()\n",
    "    elif space == str(13):\n",
    "        print()\n",
    "        print(f\"      \", end='')\n",
    "    elif space == str(17):\n",
    "        print()\n",
    "        print(f\"            \", end='')\n",
    "    \n",
    "    print(f'{assignedHexBoard[space]:>6}', end='')\n",
    "    print('      ',end='')"
   ]
  }
 ],
 "metadata": {
  "kernelspec": {
   "display_name": "Python 3",
   "language": "python",
   "name": "python3"
  },
  "language_info": {
   "codemirror_mode": {
    "name": "ipython",
    "version": 3
   },
   "file_extension": ".py",
   "mimetype": "text/x-python",
   "name": "python",
   "nbconvert_exporter": "python",
   "pygments_lexer": "ipython3",
   "version": "3.8.10 (default, Mar 15 2022, 12:22:08) \n[GCC 9.4.0]"
  },
  "orig_nbformat": 4,
  "vscode": {
   "interpreter": {
    "hash": "916dbcbb3f70747c44a77c7bcd40155683ae19c65e1c03b4aa3499c5328201f1"
   }
  }
 },
 "nbformat": 4,
 "nbformat_minor": 2
}
